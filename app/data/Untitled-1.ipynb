{
 "cells": [
  {
   "cell_type": "code",
   "execution_count": 3,
   "id": "bf107df1",
   "metadata": {},
   "outputs": [
    {
     "name": "stdout",
     "output_type": "stream",
     "text": [
      "✅ Fixed chartPath fields to web paths.\n",
      "🛟 Backup at: /Users/ousmane/Desktop/2025 - Documentations/Python/3 Economics/genesis-research/app/data/insights.json.bak-chartpaths\n",
      "💾 Updated:   /Users/ousmane/Desktop/2025 - Documentations/Python/3 Economics/genesis-research/app/data/insights.json\n"
     ]
    }
   ],
   "source": [
    "# fix_chart_paths.py — run from anywhere\n",
    "from pathlib import Path\n",
    "from datetime import datetime\n",
    "import json, re\n",
    "\n",
    "INSIGHTS = Path(\"/Users/ousmane/Desktop/2025 - Documentations/Python/3 Economics/genesis-research/app/data/insights.json\")\n",
    "\n",
    "data = json.loads(INSIGHTS.read_text(encoding=\"utf-8\"))\n",
    "\n",
    "def to_web_path(chart_path: str) -> str:\n",
    "    if not chart_path:\n",
    "        return chart_path\n",
    "    # If it already starts with /charts/, keep it\n",
    "    if chart_path.startswith(\"/charts/\"):\n",
    "        return chart_path\n",
    "    # If it's an absolute or repo-ish path containing /public/charts/..., convert to /charts/...\n",
    "    m = re.search(r\"/public/(charts/.*)$\", chart_path)\n",
    "    if m:\n",
    "        return \"/\" + m.group(1)\n",
    "    # Also handle cases like \"genesis-research/public/charts/...\"\n",
    "    m = re.search(r\"public/(charts/.*)$\", chart_path)\n",
    "    if m:\n",
    "        return \"/\" + m.group(1)\n",
    "    # Fallback: if it ends with charts/... assume that is the tail\n",
    "    m = re.search(r\"(charts/.*)$\", chart_path)\n",
    "    if m:\n",
    "        return \"/\" + m.group(1)\n",
    "    # otherwise leave as-is\n",
    "    return chart_path\n",
    "\n",
    "for ins in data:\n",
    "    cp = ins.get(\"chartPath\",\"\")\n",
    "    fixed = to_web_path(cp)\n",
    "    if fixed != cp:\n",
    "        ins[\"chartPath\"] = fixed\n",
    "\n",
    "# sort by date ASC and re-id\n",
    "def key(ins):\n",
    "    try:\n",
    "        return datetime.strptime(ins.get(\"date\",\"01-01-1900\"), \"%d-%m-%Y\")\n",
    "    except Exception:\n",
    "        return datetime(1900,1,1)\n",
    "\n",
    "data.sort(key=key)\n",
    "for i, ins in enumerate(data, 1):\n",
    "    ins[\"id\"] = i\n",
    "\n",
    "# backup + write\n",
    "backup = INSIGHTS.with_suffix(\".json.bak-chartpaths\")\n",
    "backup.write_text(INSIGHTS.read_text(encoding=\"utf-8\"), encoding=\"utf-8\")\n",
    "INSIGHTS.write_text(json.dumps(data, indent=2, ensure_ascii=False), encoding=\"utf-8\")\n",
    "\n",
    "print(\"✅ Fixed chartPath fields to web paths.\")\n",
    "print(f\"🛟 Backup at: {backup}\")\n",
    "print(f\"💾 Updated:   {INSIGHTS}\")\n"
   ]
  },
  {
   "cell_type": "code",
   "execution_count": null,
   "id": "ea3d0b3c",
   "metadata": {},
   "outputs": [],
   "source": []
  }
 ],
 "metadata": {
  "kernelspec": {
   "display_name": "Python 3",
   "language": "python",
   "name": "python3"
  },
  "language_info": {
   "codemirror_mode": {
    "name": "ipython",
    "version": 3
   },
   "file_extension": ".py",
   "mimetype": "text/x-python",
   "name": "python",
   "nbconvert_exporter": "python",
   "pygments_lexer": "ipython3",
   "version": "3.13.5"
  }
 },
 "nbformat": 4,
 "nbformat_minor": 5
}
